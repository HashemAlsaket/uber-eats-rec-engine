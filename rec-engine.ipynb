{
 "cells": [
  {
   "cell_type": "code",
   "execution_count": 1,
   "metadata": {},
   "outputs": [],
   "source": [
    "from bs4 import BeautifulSoup\n",
    "from helper_functions import scrape_menu_page, avg_wv_bow\n",
    "import numpy as np\n",
    "import pandas as pd\n",
    "import re\n",
    "\n",
    "import requests as req"
   ]
  },
  {
   "cell_type": "code",
   "execution_count": 2,
   "metadata": {},
   "outputs": [],
   "source": [
    "# my orders requested data from Uber Eats\n",
    "# if you order the same item at the same\n",
    "# time, it will show as separate items\n",
    "# at the same time- this can be desired\n",
    "# or undesired for your analysis\n",
    "df_order_details = pd.read_csv(\"Orders.csv\") "
   ]
  },
  {
   "cell_type": "code",
   "execution_count": 3,
   "metadata": {},
   "outputs": [
    {
     "data": {
      "text/html": [
       "<div>\n",
       "<style scoped>\n",
       "    .dataframe tbody tr th:only-of-type {\n",
       "        vertical-align: middle;\n",
       "    }\n",
       "\n",
       "    .dataframe tbody tr th {\n",
       "        vertical-align: top;\n",
       "    }\n",
       "\n",
       "    .dataframe thead th {\n",
       "        text-align: right;\n",
       "    }\n",
       "</style>\n",
       "<table border=\"1\" class=\"dataframe\">\n",
       "  <thead>\n",
       "    <tr style=\"text-align: right;\">\n",
       "      <th></th>\n",
       "      <th>Order Time</th>\n",
       "      <th>Item Name</th>\n",
       "    </tr>\n",
       "  </thead>\n",
       "  <tbody>\n",
       "    <tr>\n",
       "      <th>0</th>\n",
       "      <td>2022-04-13 16:23:26 +0000 UTC</td>\n",
       "      <td>Chicken / Pollo taco</td>\n",
       "    </tr>\n",
       "    <tr>\n",
       "      <th>1</th>\n",
       "      <td>2022-04-13 16:23:26 +0000 UTC</td>\n",
       "      <td>Chicken / Pollo taco</td>\n",
       "    </tr>\n",
       "  </tbody>\n",
       "</table>\n",
       "</div>"
      ],
      "text/plain": [
       "                      Order Time             Item Name\n",
       "0  2022-04-13 16:23:26 +0000 UTC  Chicken / Pollo taco\n",
       "1  2022-04-13 16:23:26 +0000 UTC  Chicken / Pollo taco"
      ]
     },
     "execution_count": 3,
     "metadata": {},
     "output_type": "execute_result"
    }
   ],
   "source": [
    "df_order_details.head(2)"
   ]
  },
  {
   "cell_type": "markdown",
   "metadata": {},
   "source": [
    "# break down common names"
   ]
  },
  {
   "cell_type": "code",
   "execution_count": 4,
   "metadata": {},
   "outputs": [],
   "source": [
    "df_my_orders = df_order_details[[\"Order Time\", \"Item Name\"]].drop_duplicates()\n",
    "\n",
    "\n",
    "df_my_orders['items'] = df_my_orders['Item Name'].map(lambda x: x.lower())\n",
    "df_my_orders['items'] = df_my_orders['items'].map(lambda x: re.sub(r'[\\W_]+', ' ', x).split(' '))"
   ]
  },
  {
   "cell_type": "code",
   "execution_count": 5,
   "metadata": {},
   "outputs": [
    {
     "data": {
      "text/html": [
       "<div>\n",
       "<style scoped>\n",
       "    .dataframe tbody tr th:only-of-type {\n",
       "        vertical-align: middle;\n",
       "    }\n",
       "\n",
       "    .dataframe tbody tr th {\n",
       "        vertical-align: top;\n",
       "    }\n",
       "\n",
       "    .dataframe thead th {\n",
       "        text-align: right;\n",
       "    }\n",
       "</style>\n",
       "<table border=\"1\" class=\"dataframe\">\n",
       "  <thead>\n",
       "    <tr style=\"text-align: right;\">\n",
       "      <th></th>\n",
       "      <th>Order Time</th>\n",
       "      <th>Item Name</th>\n",
       "      <th>items</th>\n",
       "    </tr>\n",
       "  </thead>\n",
       "  <tbody>\n",
       "    <tr>\n",
       "      <th>0</th>\n",
       "      <td>2022-04-13 16:23:26 +0000 UTC</td>\n",
       "      <td>Chicken / Pollo taco</td>\n",
       "      <td>[chicken, pollo, taco]</td>\n",
       "    </tr>\n",
       "    <tr>\n",
       "      <th>3</th>\n",
       "      <td>2022-04-13 16:23:26 +0000 UTC</td>\n",
       "      <td>Steak / Asada taco</td>\n",
       "      <td>[steak, asada, taco]</td>\n",
       "    </tr>\n",
       "    <tr>\n",
       "      <th>13</th>\n",
       "      <td>2022-04-13 16:23:26 +0000 UTC</td>\n",
       "      <td>Large jamaica</td>\n",
       "      <td>[large, jamaica]</td>\n",
       "    </tr>\n",
       "    <tr>\n",
       "      <th>16</th>\n",
       "      <td>2022-04-13 15:39:12 +0000 UTC</td>\n",
       "      <td>Sprite®</td>\n",
       "      <td>[sprite, ]</td>\n",
       "    </tr>\n",
       "    <tr>\n",
       "      <th>18</th>\n",
       "      <td>2022-04-13 15:39:12 +0000 UTC</td>\n",
       "      <td>Spicy Southwest Salad</td>\n",
       "      <td>[spicy, southwest, salad]</td>\n",
       "    </tr>\n",
       "  </tbody>\n",
       "</table>\n",
       "</div>"
      ],
      "text/plain": [
       "                       Order Time              Item Name  \\\n",
       "0   2022-04-13 16:23:26 +0000 UTC   Chicken / Pollo taco   \n",
       "3   2022-04-13 16:23:26 +0000 UTC     Steak / Asada taco   \n",
       "13  2022-04-13 16:23:26 +0000 UTC          Large jamaica   \n",
       "16  2022-04-13 15:39:12 +0000 UTC                Sprite®   \n",
       "18  2022-04-13 15:39:12 +0000 UTC  Spicy Southwest Salad   \n",
       "\n",
       "                        items  \n",
       "0      [chicken, pollo, taco]  \n",
       "3        [steak, asada, taco]  \n",
       "13           [large, jamaica]  \n",
       "16                 [sprite, ]  \n",
       "18  [spicy, southwest, salad]  "
      ]
     },
     "execution_count": 5,
     "metadata": {},
     "output_type": "execute_result"
    }
   ],
   "source": [
    "df_my_orders.head()"
   ]
  },
  {
   "cell_type": "code",
   "execution_count": 6,
   "metadata": {},
   "outputs": [],
   "source": [
    "my_bow = [x for y in df_my_orders[\"items\"] for x in y]\n",
    "stop = {\"and\", \"\", \"of\", \"1\", \"2\", \"3\", \"4\", \"$\"}\n",
    "my_bow = [x for x in my_bow if x not in stop]"
   ]
  },
  {
   "cell_type": "markdown",
   "metadata": {},
   "source": [
    "# get restaurants"
   ]
  },
  {
   "cell_type": "code",
   "execution_count": 7,
   "metadata": {},
   "outputs": [],
   "source": [
    "site = \"https://www.ubereats.com/chicago\"\n",
    "res = req.get(site, headers={'User-Agent':'Mozilla/5.0'})\n",
    "soup = BeautifulSoup(res.text, \"lxml\")\n",
    "\n",
    "restaurants = []\n",
    "\n",
    "for rest in soup.find_all(\"a\"):\n",
    "    text = rest.text\n",
    "    link = rest['href']\n",
    "    if \"Delivery\" in text or \"delivery\" in text or \"Food\" in text or \"Sign\" in text or \"restaurants\" in text or \"dish\" in link:\n",
    "        continue\n",
    "    restaurants.append((text, link))\n",
    "\n",
    "restaurants = restaurants[19:-46]\n",
    "restaurants = [x for x in restaurants if x[1][0] == '/']"
   ]
  },
  {
   "cell_type": "code",
   "execution_count": 8,
   "metadata": {},
   "outputs": [],
   "source": [
    "addr_rm = []\n",
    "seen = set()\n",
    "\n",
    "for place, link in restaurants:\n",
    "    if '(' not in place:\n",
    "        if place not in seen:\n",
    "            addr_rm.append((place, link))\n",
    "            seen.add(place)\n",
    "        continue\n",
    "    new_place = place[:place.index('(') - 1]\n",
    "    if new_place in seen:\n",
    "        continue\n",
    "    seen.add(new_place)\n",
    "    addr_rm.append((new_place, link))\n"
   ]
  },
  {
   "cell_type": "code",
   "execution_count": 9,
   "metadata": {},
   "outputs": [],
   "source": [
    "rest_menus = []\n",
    "\n",
    "for place, ext in addr_rm:\n",
    "    url = \"https://www.ubereats.com\" + ext\n",
    "    menu_page_string = scrape_menu_page(url)\n",
    "    if not menu_page_string:\n",
    "        continue\n",
    "    menu_page = BeautifulSoup(menu_page_string, \"html.parser\")\n",
    "    \n",
    "    for main in menu_page.find_all(\"main\"):\n",
    "        for span in main.find_all(\"span\"):\n",
    "            text = span.text\n",
    "            if \"$\" in text or len(text) < 5 or len(text) > 50:\n",
    "                continue\n",
    "            rest_menus.append((place, span.text))"
   ]
  },
  {
   "cell_type": "code",
   "execution_count": 10,
   "metadata": {},
   "outputs": [],
   "source": [
    "d_food = {}\n",
    "\n",
    "for rest, item in rest_menus:\n",
    "    if \"\\xa0\\xa0•\\xa0\\xa0\" in item or \"•\" in item:\n",
    "        continue\n",
    "    d_food[rest] = d_food.get(rest, [])\n",
    "    d_food[rest].append(item)"
   ]
  },
  {
   "cell_type": "code",
   "execution_count": 11,
   "metadata": {},
   "outputs": [],
   "source": [
    "df = pd.DataFrame(columns=[\"restaurant\", \"menu_bow\"])\n",
    "\n",
    "logistics = {'and', 'hours', 'address', 'more', 'tap', 'for', 'hours,', 'address,', 'more,', 'tap,', 'for,'}\n",
    "\n",
    "for rest in d_food:\n",
    "    restaurant, menu = rest, d_food[rest][1:] # first item is address\n",
    "    menu_bow = \" \".join(menu)\n",
    "    menu_bow = menu_bow.split(\" \")\n",
    "    menu_bow = [term.lower() for term in menu_bow]\n",
    "    menu_bow = [term for term in menu_bow if term not in logistics]\n",
    "    df.loc[len(df)] = [restaurant, menu_bow]"
   ]
  },
  {
   "cell_type": "code",
   "execution_count": 12,
   "metadata": {},
   "outputs": [
    {
     "data": {
      "text/html": [
       "<div>\n",
       "<style scoped>\n",
       "    .dataframe tbody tr th:only-of-type {\n",
       "        vertical-align: middle;\n",
       "    }\n",
       "\n",
       "    .dataframe tbody tr th {\n",
       "        vertical-align: top;\n",
       "    }\n",
       "\n",
       "    .dataframe thead th {\n",
       "        text-align: right;\n",
       "    }\n",
       "</style>\n",
       "<table border=\"1\" class=\"dataframe\">\n",
       "  <thead>\n",
       "    <tr style=\"text-align: right;\">\n",
       "      <th></th>\n",
       "      <th>restaurant</th>\n",
       "      <th>menu_bow</th>\n",
       "    </tr>\n",
       "  </thead>\n",
       "  <tbody>\n",
       "    <tr>\n",
       "      <th>0</th>\n",
       "      <td>Paulie Gee's Chicago</td>\n",
       "      <td>[the, chicago, vegan, bread, pudding, (v), by,...</td>\n",
       "    </tr>\n",
       "    <tr>\n",
       "      <th>1</th>\n",
       "      <td>Shawarma Inn III</td>\n",
       "      <td>[chicken, beef, shawarma, combination, entree,...</td>\n",
       "    </tr>\n",
       "  </tbody>\n",
       "</table>\n",
       "</div>"
      ],
      "text/plain": [
       "             restaurant                                           menu_bow\n",
       "0  Paulie Gee's Chicago  [the, chicago, vegan, bread, pudding, (v), by,...\n",
       "1      Shawarma Inn III  [chicken, beef, shawarma, combination, entree,..."
      ]
     },
     "execution_count": 12,
     "metadata": {},
     "output_type": "execute_result"
    }
   ],
   "source": [
    "df.head(20)"
   ]
  },
  {
   "cell_type": "code",
   "execution_count": 13,
   "metadata": {},
   "outputs": [],
   "source": [
    "# compute avg w2v vector by restaurant menu\n",
    "df['avg_wv_bow'] = df['menu_bow'].map(lambda bow: avg_wv_bow(bow))\n",
    "\n",
    "# compute my avg w2v vector\n",
    "my_bow_wv = avg_wv_bow(my_bow)\n",
    "\n",
    "# compute cosine similarity between each avg w2v vector by restaurant and my avg w2v\n",
    "df['cos_sim'] = df['avg_wv_bow'].map(lambda x: np.dot(x, my_bow_wv) / np.linalg.norm(x) * np.linalg.norm(my_bow_wv))\n",
    "\n",
    "# sort by score- the higher the better\n",
    "df = df.sort_values(by=['cos_sim'], ascending=False)"
   ]
  },
  {
   "cell_type": "code",
   "execution_count": 14,
   "metadata": {},
   "outputs": [
    {
     "data": {
      "text/html": [
       "<div>\n",
       "<style scoped>\n",
       "    .dataframe tbody tr th:only-of-type {\n",
       "        vertical-align: middle;\n",
       "    }\n",
       "\n",
       "    .dataframe tbody tr th {\n",
       "        vertical-align: top;\n",
       "    }\n",
       "\n",
       "    .dataframe thead th {\n",
       "        text-align: right;\n",
       "    }\n",
       "</style>\n",
       "<table border=\"1\" class=\"dataframe\">\n",
       "  <thead>\n",
       "    <tr style=\"text-align: right;\">\n",
       "      <th></th>\n",
       "      <th>restaurant</th>\n",
       "      <th>cos_sim</th>\n",
       "    </tr>\n",
       "  </thead>\n",
       "  <tbody>\n",
       "    <tr>\n",
       "      <th>0</th>\n",
       "      <td>Shawarma Inn III</td>\n",
       "      <td>0.204374</td>\n",
       "    </tr>\n",
       "    <tr>\n",
       "      <th>1</th>\n",
       "      <td>Paulie Gee's Chicago</td>\n",
       "      <td>0.188324</td>\n",
       "    </tr>\n",
       "  </tbody>\n",
       "</table>\n",
       "</div>"
      ],
      "text/plain": [
       "             restaurant   cos_sim\n",
       "0      Shawarma Inn III  0.204374\n",
       "1  Paulie Gee's Chicago  0.188324"
      ]
     },
     "execution_count": 14,
     "metadata": {},
     "output_type": "execute_result"
    }
   ],
   "source": [
    "pd.set_option('display.max_rows', 200)\n",
    "\n",
    "df[[\"restaurant\", \"cos_sim\"]].reset_index().drop([\"index\"], axis=1)"
   ]
  },
  {
   "cell_type": "code",
   "execution_count": null,
   "metadata": {},
   "outputs": [],
   "source": []
  }
 ],
 "metadata": {
  "kernelspec": {
   "display_name": "Python 3",
   "language": "python",
   "name": "python3"
  },
  "language_info": {
   "codemirror_mode": {
    "name": "ipython",
    "version": 3
   },
   "file_extension": ".py",
   "mimetype": "text/x-python",
   "name": "python",
   "nbconvert_exporter": "python",
   "pygments_lexer": "ipython3",
   "version": "3.6.9"
  }
 },
 "nbformat": 4,
 "nbformat_minor": 4
}
